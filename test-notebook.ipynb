{
 "cells": [
  {
   "cell_type": "markdown",
   "metadata": {
    "vscode": {
     "languageId": "plaintext"
    }
   },
   "source": [
    "# OPEN AI GENERATE IMAGES MASTER FUNCTION DEVELOPMENT"
   ]
  },
  {
   "cell_type": "code",
   "execution_count": null,
   "metadata": {},
   "outputs": [],
   "source": [
    "from openai import OpenAI\n",
    "client = OpenAI()\n",
    "\n",
    "response = client.images.generate(\n",
    "  model=\"dall-e-3\",\n",
    "  prompt=\"a white siamese cat\",\n",
    "  size=\"1024x1024\",\n",
    "  quality=\"standard\",\n",
    "  n=1,\n",
    ")\n",
    "\n",
    "image_url = response.data[0].url"
   ]
  },
  {
   "cell_type": "code",
   "execution_count": null,
   "metadata": {},
   "outputs": [],
   "source": [
    "# Download the image\n",
    "import requests\n",
    "image_response = requests.get(image_url)\n",
    "\n",
    "# Save the image to a file\n",
    "if image_response.status_code == 200:\n",
    "    with open('white_siamese_cat.png', 'wb') as f:\n",
    "        f.write(image_response.content)  # it is in  bytes format\n",
    "    print(\"Image downloaded and saved as 'white_siamese_cat.png'\")\n",
    "else:\n",
    "    print(\"Failed to download the image\")"
   ]
  },
  {
   "cell_type": "code",
   "execution_count": null,
   "metadata": {},
   "outputs": [],
   "source": [
    "## START\n",
    "def generate_images_for_slides(starting_slide=1, last_slide=1):\n",
    "    a = starting_slide\n",
    "    while a <= last_slide:\n",
    "        prompt = input(f\"Enter the text in slide_{a}\").strip()\n",
    "        prompt = f\"Generate an image that will engage learners reading besides that text delimited by triple backticks ```{prompt}```\"\n",
    "        \n",
    "        print(\"process the prompt\")\n",
    "        from openai import OpenAI\n",
    "        client = OpenAI()\n",
    "        \n",
    "        response = client.images.generate(\n",
    "            model=\"dall-e-3\",\n",
    "            prompt=prompt,\n",
    "            size=\"1024x1024\",\n",
    "            quality=\"standard\",\n",
    "            n=1,\n",
    "        )\n",
    "        \n",
    "        image_url = response.data[0].url\n",
    "        \n",
    "        # Download the image\n",
    "        import requests\n",
    "        image_response = requests.get(image_url)\n",
    "\n",
    "        # Save the image to a file\n",
    "        if image_response.status_code == 200:\n",
    "            with open(f'slide_{a}.png', 'wb') as f:\n",
    "                f.write(image_response.content)  # it is in  bytes format\n",
    "            print(f\"Image downloaded and saved as 'slide_{a}.png'\")\n",
    "        else:\n",
    "            print(\"Failed to download the image\")\n",
    "            \n",
    "        a = a+1\n",
    "    \n",
    "    print(\"Done\")\n",
    "    "
   ]
  },
  {
   "cell_type": "code",
   "execution_count": 1,
   "metadata": {},
   "outputs": [],
   "source": [
    "# OPtimized with chatgpt"
   ]
  },
  {
   "cell_type": "code",
   "execution_count": 2,
   "metadata": {},
   "outputs": [],
   "source": [
    "import requests\n",
    "from openai import OpenAI\n",
    "\n",
    "def generate_images_for_slides(starting_slide=1, last_slide=1):\n",
    "    if starting_slide > last_slide:\n",
    "        print(\"Invalid slide range. Ensure starting_slide <= last_slide.\")\n",
    "        return\n",
    "    \n",
    "    # Initialize OpenAI client once\n",
    "    client = OpenAI()\n",
    "    \n",
    "    for slide_num in range(starting_slide, last_slide + 1):\n",
    "        # Get the prompt text\n",
    "        prompt = input(f\"Enter the text for slide {slide_num}: \").strip()\n",
    "        full_prompt = (\n",
    "            f\"Generate an image that will engage learners reading besides the text \"\n",
    "            f\"delimited by triple backticks ```{prompt}```\"\n",
    "        )\n",
    "        \n",
    "        # Generate the image\n",
    "        try:\n",
    "            response = client.images.generate(\n",
    "                model=\"dall-e-3\",\n",
    "                prompt=full_prompt,\n",
    "                size=\"1024x1024\",\n",
    "                quality=\"standard\",\n",
    "                n=1,\n",
    "            )\n",
    "            image_url = response.data[0].url\n",
    "        except Exception as e:\n",
    "            print(f\"Error generating image for slide {slide_num}: {e}\")\n",
    "            continue\n",
    "\n",
    "        # Download the image\n",
    "        try:\n",
    "            image_response = requests.get(image_url, timeout=10)\n",
    "            image_response.raise_for_status()\n",
    "            file_path = f\"slide_{slide_num}.png\"\n",
    "            with open(file_path, 'wb') as f:\n",
    "                f.write(image_response.content)\n",
    "            print(f\"Image downloaded and saved as '{file_path}'\")\n",
    "        except Exception as e:\n",
    "            print(f\"Error downloading image for slide {slide_num}: {e}\")\n",
    "            continue\n",
    "\n",
    "    print(\"All slides processed.\")\n"
   ]
  },
  {
   "cell_type": "code",
   "execution_count": null,
   "metadata": {},
   "outputs": [],
   "source": [
    "import requests\n",
    "from openai import OpenAI\n",
    "\n",
    "def generate_images_for_slides(starting_slide=1, last_slide=1):\n",
    "    if starting_slide > last_slide:\n",
    "        print(\"Invalid slide range. Ensure starting_slide <= last_slide.\")\n",
    "        return\n",
    "    \n",
    "    # Initialize OpenAI client once\n",
    "    client = OpenAI()\n",
    "    \n",
    "    for slide_num in range(starting_slide, last_slide + 1):\n",
    "        # Get the prompt text\n",
    "        prompt = input(f\"Enter the text for slide {slide_num}: \").strip()\n",
    "        full_prompt = f\"Generate an image that will engage learners reading besides the text delimited by triple backticks ```{prompt}```\"\n",
    "        \n",
    "        \n",
    "        # Generate the image\n",
    "        try:\n",
    "            response = client.images.generate(\n",
    "                model=\"dall-e-3\",\n",
    "                prompt=full_prompt,\n",
    "                size=\"1024x1024\",\n",
    "                quality=\"standard\",\n",
    "                n=1,\n",
    "            )\n",
    "            image_url = response.data[0].url\n",
    "        except Exception as e:\n",
    "            print(f\"Error generating image for slide {slide_num}: {e}\")\n",
    "            continue\n",
    "\n",
    "        # Download the image\n",
    "        try:\n",
    "            image_response = requests.get(image_url, timeout=10)\n",
    "            image_response.raise_for_status()\n",
    "            file_path = f\"slide_{slide_num}.png\"\n",
    "            with open(file_path, 'wb') as f:\n",
    "                f.write(image_response.content)\n",
    "            print(f\"Image downloaded and saved as '{file_path}'\")\n",
    "        except Exception as e:\n",
    "            print(f\"Error downloading image for slide {slide_num}: {e}\")\n",
    "            continue\n",
    "\n",
    "    print(\"All slides processed.\")\n"
   ]
  },
  {
   "cell_type": "code",
   "execution_count": 6,
   "metadata": {},
   "outputs": [
    {
     "name": "stdout",
     "output_type": "stream",
     "text": [
      "Image downloaded and saved as 'slide_8.png'\n",
      "All slides processed.\n"
     ]
    }
   ],
   "source": [
    "generate_images_for_slides(8, 8)"
   ]
  },
  {
   "cell_type": "code",
   "execution_count": null,
   "metadata": {},
   "outputs": [
    {
     "name": "stdout",
     "output_type": "stream",
     "text": [
      "Image downloaded and saved as 'slide_1.png'\n",
      "Image downloaded and saved as 'slide_2.png'\n",
      "Image downloaded and saved as 'slide_3.png'\n",
      "Image downloaded and saved as 'slide_4.png'\n",
      "Image downloaded and saved as 'slide_5.png'\n",
      "Image downloaded and saved as 'slide_6.png'\n",
      "Image downloaded and saved as 'slide_7.png'\n",
      "Image downloaded and saved as 'slide_8.png'\n",
      "Image downloaded and saved as 'slide_9.png'\n",
      "Image downloaded and saved as 'slide_10.png'\n",
      "Image downloaded and saved as 'slide_11.png'\n",
      "Image downloaded and saved as 'slide_12.png'\n",
      "Image downloaded and saved as 'slide_13.png'\n",
      "Image downloaded and saved as 'slide_14.png'\n",
      "Image downloaded and saved as 'slide_15.png'\n",
      "Image downloaded and saved as 'slide_16.png'\n",
      "Image downloaded and saved as 'slide_17.png'\n",
      "Image downloaded and saved as 'slide_18.png'\n",
      "Image downloaded and saved as 'slide_19.png'\n",
      "Image downloaded and saved as 'slide_20.png'\n",
      "Image downloaded and saved as 'slide_21.png'\n",
      "Image downloaded and saved as 'slide_22.png'\n",
      "Image downloaded and saved as 'slide_23.png'\n",
      "Image downloaded and saved as 'slide_24.png'\n",
      "Image downloaded and saved as 'slide_25.png'\n",
      "Image downloaded and saved as 'slide_26.png'\n",
      "Image downloaded and saved as 'slide_27.png'\n",
      "Image downloaded and saved as 'slide_28.png'\n",
      "Image downloaded and saved as 'slide_29.png'\n",
      "Image downloaded and saved as 'slide_30.png'\n",
      "Image downloaded and saved as 'slide_31.png'\n",
      "Image downloaded and saved as 'slide_32.png'\n",
      "Image downloaded and saved as 'slide_33.png'\n",
      "Image downloaded and saved as 'slide_34.png'\n",
      "Image downloaded and saved as 'slide_35.png'\n"
     ]
    }
   ],
   "source": [
    "generate_images_for_slides(1, 92)"
   ]
  },
  {
   "cell_type": "code",
   "execution_count": null,
   "metadata": {},
   "outputs": [],
   "source": [
    "# Write a code to split the text in skillcat-ppt.txt in dictionary format\n",
    "import re\n",
    "\n",
    "# function to extract text from the plain text file\n",
    "def extract_text_from_file_path(file_path):\n",
    "    with open(file_path, \"r\", encoding='utf-8') as file:\n",
    "        content = file.read()\n",
    "    return content\n",
    "\n",
    "# function to pass the text and store it in a dictionary\n",
    "def parse_text_to_dictionary(text):\n",
    "    slides = re.split(r'\\n\\n', text)  # split text by double new line\n",
    "    slide_dict = {f\"slide_{i+1}\": slide.strip() for i, slide in enumerate(slides)}\n",
    "    return slide_dict\n",
    "\n"
   ]
  },
  {
   "cell_type": "code",
   "execution_count": 3,
   "metadata": {},
   "outputs": [],
   "source": [
    "slides = parse_text_to_dictionary(extract_text_from_file_path(\"/Users/hajirufai/AI-projects/SkillCat_Project/skillcat-ppt.txt\"))"
   ]
  },
  {
   "cell_type": "code",
   "execution_count": 6,
   "metadata": {},
   "outputs": [
    {
     "data": {
      "text/plain": [
       "'Sensors and Transducers\\nLearning Objectives:\\n1. Identify types of sensors used in HVAC systems and their applications.\\n2. Explain how transducers convert physical changes into electrical signals.'"
      ]
     },
     "execution_count": 6,
     "metadata": {},
     "output_type": "execute_result"
    }
   ],
   "source": [
    "slides['slide_36']"
   ]
  },
  {
   "cell_type": "code",
   "execution_count": 5,
   "metadata": {},
   "outputs": [
    {
     "name": "stdout",
     "output_type": "stream",
     "text": [
      "Sensors and Transducers\n",
      "Learning Objectives:\n",
      "1. Identify types of sensors used in HVAC systems and their applications.\n",
      "2. Explain how transducers convert physical changes into electrical signals.\n"
     ]
    }
   ],
   "source": [
    "print(slides['slide_36'])"
   ]
  },
  {
   "cell_type": "code",
   "execution_count": 7,
   "metadata": {},
   "outputs": [],
   "source": [
    "# Store the slides as a json dictionary"
   ]
  },
  {
   "cell_type": "code",
   "execution_count": 8,
   "metadata": {},
   "outputs": [],
   "source": [
    "import json\n",
    "# Save the dictionary to a JSON file\n",
    "with open('slides.json', 'w') as json_file:\n",
    "    json.dump(slides, json_file, indent=4)"
   ]
  },
  {
   "cell_type": "code",
   "execution_count": 9,
   "metadata": {},
   "outputs": [
    {
     "data": {
      "text/plain": [
       "'Sensors and Transducers\\nLearning Objectives:\\n1. Identify types of sensors used in HVAC systems and their applications.\\n2. Explain how transducers convert physical changes into electrical signals.'"
      ]
     },
     "execution_count": 9,
     "metadata": {},
     "output_type": "execute_result"
    }
   ],
   "source": [
    "# TESTING CONVERTING IT BACK TO PYTHON\n",
    "import json\n",
    "with open(\"slides.json\", \"r\") as file:\n",
    "    slides_dict = json.load(file)\n",
    "    \n",
    "    \n",
    "slides_dict['slide_36']"
   ]
  },
  {
   "cell_type": "code",
   "execution_count": 11,
   "metadata": {},
   "outputs": [
    {
     "name": "stdout",
     "output_type": "stream",
     "text": [
      "Ohm's Law Basics:\n",
      "- Formula: V = I × R\n",
      "- V represents Voltage (Volts)\n",
      "- I represents Current (Amperes)\n",
      "- R represents Resistance (Ohms)\n",
      "A fundamental equation used to calculate the relationship between voltage, current, and resistance in electrical circuits.\n"
     ]
    }
   ],
   "source": [
    "print(slides_dict['slide_16'])"
   ]
  },
  {
   "cell_type": "code",
   "execution_count": null,
   "metadata": {},
   "outputs": [],
   "source": [
    "# Modify my scripts instead of using prompts which I will give it to them\n",
    "# They should utilize the json dictionary / .json file"
   ]
  },
  {
   "cell_type": "code",
   "execution_count": null,
   "metadata": {},
   "outputs": [],
   "source": [
    "import requests\n",
    "from openai import OpenAI\n",
    "\n",
    "def generate_images_for_slides(starting_slide=1, last_slide=1):\n",
    "    if starting_slide > last_slide:\n",
    "        print(\"Invalid slide range. Ensure starting_slide <= last_slide.\")\n",
    "        return\n",
    "    \n",
    "    # Initialize OpenAI client once\n",
    "    client = OpenAI()\n",
    "    \n",
    "    for slide_num in range(starting_slide, last_slide + 1):\n",
    "        # Get the prompt text\n",
    "        # prompt = input(f\"Enter the text for slide {slide_num}: \").strip()\n",
    "        import json\n",
    "        with open(\"slides.json\", \"r\") as json_file:\n",
    "            slides_dict = json.load(json_file)\n",
    "        \n",
    "        prompt = slides_dict[f\"slide_{slide_num}\"]\n",
    "        \n",
    "        full_prompt = f\"Generate an image that will engage learners reading besides the text delimited by triple backticks ```{prompt}```\"\n",
    "        \n",
    "        # Generate the image\n",
    "        try:\n",
    "            response = client.images.generate(\n",
    "                model=\"dall-e-3\",\n",
    "                prompt=full_prompt,\n",
    "                size=\"1024x1024\",\n",
    "                quality=\"standard\",\n",
    "                n=1,\n",
    "            )\n",
    "            image_url = response.data[0].url\n",
    "        except Exception as e:\n",
    "            print(f\"Error generating image for slide {slide_num}: {e}\")\n",
    "            continue\n",
    "\n",
    "        # Download the image\n",
    "        try:\n",
    "            image_response = requests.get(image_url, timeout=10)\n",
    "            image_response.raise_for_status()\n",
    "            file_path = f\"slide_{slide_num}.png\"\n",
    "            with open(file_path, 'wb') as f:\n",
    "                f.write(image_response.content)\n",
    "            print(f\"Image downloaded and saved as '{file_path}'\")\n",
    "        except Exception as e:\n",
    "            print(f\"Error downloading image for slide {slide_num}: {e}\")\n",
    "            continue\n",
    "\n",
    "    print(\"All slides processed.\")\n"
   ]
  },
  {
   "cell_type": "code",
   "execution_count": 17,
   "metadata": {},
   "outputs": [],
   "source": [
    "import requests\n",
    "import json\n",
    "from openai import OpenAI\n",
    "\n",
    "def generate_images_for_slides(starting_slide=1, last_slide=1):\n",
    "    # Validate slide range\n",
    "    if starting_slide > last_slide:\n",
    "        print(\"Invalid slide range. Ensure starting_slide <= last_slide.\")\n",
    "        return\n",
    "\n",
    "    # Initialize OpenAI client once\n",
    "    client = OpenAI()\n",
    "\n",
    "    # Load slides data once\n",
    "    try:\n",
    "        with open(\"slides.json\", \"r\") as json_file:\n",
    "            slides_dict = json.load(json_file)\n",
    "    except FileNotFoundError:\n",
    "        print(\"Error: 'slides.json' file not found.\")\n",
    "        return\n",
    "    except json.JSONDecodeError:\n",
    "        print(\"Error: Failed to parse 'slides.json'.\")\n",
    "        return\n",
    "\n",
    "    # Loop through the slides and generate images\n",
    "    for slide_num in range(starting_slide, last_slide + 1):\n",
    "        # Check if the slide exists in the dictionary\n",
    "        slide_key = f\"slide_{slide_num}\"\n",
    "        if slide_key not in slides_dict:\n",
    "            print(f\"Warning: No prompt found for {slide_key}. Skipping.\")\n",
    "            continue\n",
    "\n",
    "        prompt = slides_dict[slide_key]\n",
    "        full_prompt = f\"Generate an image that will engage learners reading besides the text delimited by triple backticks ```{prompt}```\"\n",
    "        print(full_prompt)\n",
    "        \n",
    "        # Generate the image\n",
    "        image_url = generate_image(client, full_prompt, slide_num)\n",
    "        if not image_url:\n",
    "            continue\n",
    "        \n",
    "        # Download the image\n",
    "        download_image(image_url, slide_num)\n",
    "\n",
    "    print(\"All slides processed.\")\n",
    "\n",
    "def generate_image(client, prompt, slide_num):\n",
    "    try:\n",
    "        response = client.images.generate(\n",
    "            model=\"dall-e-3\",\n",
    "            prompt=prompt,\n",
    "            size=\"1024x1024\",\n",
    "            quality=\"standard\",\n",
    "            n=1,\n",
    "        )\n",
    "        return response.data[0].url\n",
    "    except Exception as e:\n",
    "        print(f\"Error generating image for slide {slide_num}: {e}\")\n",
    "        return None\n",
    "\n",
    "def download_image(image_url, slide_num):\n",
    "    try:\n",
    "        image_response = requests.get(image_url, timeout=10)\n",
    "        image_response.raise_for_status()\n",
    "        file_path = f\"slide_{slide_num}.png\"\n",
    "        with open(file_path, 'wb') as f:\n",
    "            f.write(image_response.content)\n",
    "        print(f\"Image downloaded and saved as '{file_path}'\")\n",
    "    except requests.exceptions.RequestException as e:\n",
    "        print(f\"Error downloading image for slide {slide_num}: {e}\")\n"
   ]
  },
  {
   "cell_type": "code",
   "execution_count": 18,
   "metadata": {},
   "outputs": [
    {
     "name": "stdout",
     "output_type": "stream",
     "text": [
      "Generate an image that will engage learners reading besides the text delimited by triple backticks ```Ohm's Law Basics:\n",
      "- Formula: V = I × R\n",
      "- V represents Voltage (Volts)\n",
      "- I represents Current (Amperes)\n",
      "- R represents Resistance (Ohms)\n",
      "A fundamental equation used to calculate the relationship between voltage, current, and resistance in electrical circuits.```\n",
      "Image downloaded and saved as 'slide_16.png'\n",
      "All slides processed.\n"
     ]
    }
   ],
   "source": [
    "generate_images_for_slides(16, 16)"
   ]
  },
  {
   "cell_type": "code",
   "execution_count": null,
   "metadata": {},
   "outputs": [],
   "source": [
    "# import torch\n",
    "# from diffusers import StableDiffusionPipeline\n",
    "# from PIL import Image\n",
    "# import json\n",
    "\n",
    "# def generate_images_for_slides(starting_slide=1, last_slide=1):\n",
    "#     if starting_slide > last_slide:\n",
    "#         print(\"Invalid slide range. Ensure starting_slide <= last_slide.\")\n",
    "#         return\n",
    "    \n",
    "#     # Check if GPU is available, else fallback to CPU\n",
    "#     DEVICE = 'cuda' if torch.cuda.is_available() else 'cpu'\n",
    "#     print(f\"Using device: {DEVICE}\")\n",
    "    \n",
    "#     # Load the pre-trained Stable Diffusion model once\n",
    "#     print(\"Loading Stable Diffusion model...\")\n",
    "#     pipe = StableDiffusionPipeline.from_pretrained(\"runwayml/stable-diffusion-v1-5\")\n",
    "#     pipe = pipe.to(DEVICE)\n",
    "    \n",
    "#     # Load the slides data once before the loop\n",
    "#     try:\n",
    "#         with open(\"slides.json\", \"r\") as json_file:\n",
    "#             slides_dict = json.load(json_file)\n",
    "#     except FileNotFoundError:\n",
    "#         print(\"Error: 'slides.json' file not found.\")\n",
    "#         return\n",
    "#     except json.JSONDecodeError:\n",
    "#         print(\"Error: Failed to parse 'slides.json'.\")\n",
    "#         return\n",
    "    \n",
    "#     # Iterate through the slides\n",
    "#     for slide_num in range(starting_slide, last_slide + 1):\n",
    "#         slide_key = f\"slide_{slide_num}\"\n",
    "        \n",
    "#         # Check if the slide exists in the dictionary\n",
    "#         if slide_key not in slides_dict:\n",
    "#             print(f\"Warning: No prompt found for {slide_key}. Skipping.\")\n",
    "#             continue\n",
    "        \n",
    "#         prompt = slides_dict[slide_key]\n",
    "#         full_prompt = f\"Generate an image that will engage learners reading besides the text delimited by triple backticks ```{prompt}```\"\n",
    "        \n",
    "#         try:\n",
    "#             # Generate the image\n",
    "#             print(f\"Generating image for slide {slide_num}...\")\n",
    "#             image = pipe(full_prompt, num_inference_steps=30).images[0]\n",
    "            \n",
    "#             # Save the image to a file\n",
    "#             file_path = f\"slide_{slide_num}.png\"\n",
    "#             image.save(file_path)\n",
    "#             print(f\"Image saved as '{file_path}'\")\n",
    "#         except Exception as e:\n",
    "#             print(f\"Error generating image for slide {slide_num}: {e}\")\n",
    "#             continue\n",
    "    \n",
    "#     print(\"All slides processed.\")\n",
    "\n"
   ]
  },
  {
   "cell_type": "code",
   "execution_count": 20,
   "metadata": {},
   "outputs": [
    {
     "name": "stdout",
     "output_type": "stream",
     "text": [
      "Using device: cpu\n",
      "Loading Stable Diffusion model...\n"
     ]
    },
    {
     "data": {
      "application/vnd.jupyter.widget-view+json": {
       "model_id": "443e5cdd9a9b480caaa2cc86b48e1d8a",
       "version_major": 2,
       "version_minor": 0
      },
      "text/plain": [
       "Fetching 15 files:   0%|          | 0/15 [00:00<?, ?it/s]"
      ]
     },
     "metadata": {},
     "output_type": "display_data"
    },
    {
     "data": {
      "application/vnd.jupyter.widget-view+json": {
       "model_id": "1fe4e637361d44759de6c08ac3c1094f",
       "version_major": 2,
       "version_minor": 0
      },
      "text/plain": [
       "model.safetensors:  52%|#####1    | 629M/1.22G [00:00<?, ?B/s]"
      ]
     },
     "metadata": {},
     "output_type": "display_data"
    },
    {
     "data": {
      "application/vnd.jupyter.widget-view+json": {
       "model_id": "f334ce64ab664d8fb6b2265dca4db32d",
       "version_major": 2,
       "version_minor": 0
      },
      "text/plain": [
       "diffusion_pytorch_model.safetensors:  41%|####      | 1.39G/3.44G [00:00<?, ?B/s]"
      ]
     },
     "metadata": {},
     "output_type": "display_data"
    },
    {
     "name": "stderr",
     "output_type": "stream",
     "text": [
      "Error while downloading from https://cdn-lfs.hf.co/repos/66/6f/666f465fa70158515404e8de2c6bc6fe2f90c46f9296293aa14daededeb32c52/19da7aaa4b880e59d56843f1fcb4dd9b599c28a1d9d9af7c1143057c8ffae9f1?response-content-disposition=inline%3B+filename*%3DUTF-8%27%27diffusion_pytorch_model.safetensors%3B+filename%3D%22diffusion_pytorch_model.safetensors%22%3B&Expires=1732058994&Policy=eyJTdGF0ZW1lbnQiOlt7IkNvbmRpdGlvbiI6eyJEYXRlTGVzc1RoYW4iOnsiQVdTOkVwb2NoVGltZSI6MTczMjA1ODk5NH19LCJSZXNvdXJjZSI6Imh0dHBzOi8vY2RuLWxmcy5oZi5jby9yZXBvcy82Ni82Zi82NjZmNDY1ZmE3MDE1ODUxNTQwNGU4ZGUyYzZiYzZmZTJmOTBjNDZmOTI5NjI5M2FhMTRkYWVkZWRlYjMyYzUyLzE5ZGE3YWFhNGI4ODBlNTlkNTY4NDNmMWZjYjRkZDliNTk5YzI4YTFkOWQ5YWY3YzExNDMwNTdjOGZmYWU5ZjE%7EcmVzcG9uc2UtY29udGVudC1kaXNwb3NpdGlvbj0qIn1dfQ__&Signature=BxZwFnunG9PFt5i8DhzMc6EwdE-qZfYnByJ5jampwghA2oJMndzEdppHOk1Y041w9ySLNT6wLDhSZwzVqnuYLDWuP8gWM7m4wIW3VpfgjxyyGLP-Bdw0O12IG8v-jbe31S9yYvgPAJhGOKIEiXVS-bBZc0czd2QArk-8pIpw2z71ZzgBynEaFPNkTiJqBKYg2dvsNqVclTLQipXRV8%7EC%7E8SivzwWjd8ZeclpaDsuI64CBrWU9dxvDpF-7Zby1wxTXvD8EDOXDbbSPAbVIxfUHQp8U3%7ER7IRgoPtglUztWx91EV430JBXOsBHBigjU%7EL94bR5kKCkqg%7EcrcVWt-wUYQ__&Key-Pair-Id=K3RPWS32NSSJCE: HTTPSConnectionPool(host='cdn-lfs.hf.co', port=443): Read timed out.\n",
      "Trying to resume download...\n"
     ]
    },
    {
     "data": {
      "application/vnd.jupyter.widget-view+json": {
       "model_id": "debba1dde8314444bac2e92d8c8596e8",
       "version_major": 2,
       "version_minor": 0
      },
      "text/plain": [
       "diffusion_pytorch_model.safetensors:  99%|#########8| 3.39G/3.44G [00:00<?, ?B/s]"
      ]
     },
     "metadata": {},
     "output_type": "display_data"
    },
    {
     "ename": "KeyboardInterrupt",
     "evalue": "",
     "output_type": "error",
     "traceback": [
      "\u001b[0;31m---------------------------------------------------------------------------\u001b[0m",
      "\u001b[0;31mKeyboardInterrupt\u001b[0m                         Traceback (most recent call last)",
      "\u001b[0;32m/var/folders/6_/m5y1w_sx5s79s6m511fswc600000gn/T/ipykernel_26165/1724606449.py\u001b[0m in \u001b[0;36m<module>\u001b[0;34m\u001b[0m\n\u001b[0;32m----> 1\u001b[0;31m \u001b[0mgenerate_images_for_slides\u001b[0m\u001b[0;34m(\u001b[0m\u001b[0mstarting_slide\u001b[0m\u001b[0;34m=\u001b[0m\u001b[0;36m1\u001b[0m\u001b[0;34m,\u001b[0m \u001b[0mlast_slide\u001b[0m\u001b[0;34m=\u001b[0m\u001b[0;36m1\u001b[0m\u001b[0;34m)\u001b[0m\u001b[0;34m\u001b[0m\u001b[0;34m\u001b[0m\u001b[0m\n\u001b[0m",
      "\u001b[0;32m/var/folders/6_/m5y1w_sx5s79s6m511fswc600000gn/T/ipykernel_26165/1558858283.py\u001b[0m in \u001b[0;36mgenerate_images_for_slides\u001b[0;34m(starting_slide, last_slide)\u001b[0m\n\u001b[1;32m     15\u001b[0m     \u001b[0;31m# Load the pre-trained Stable Diffusion model once\u001b[0m\u001b[0;34m\u001b[0m\u001b[0;34m\u001b[0m\u001b[0m\n\u001b[1;32m     16\u001b[0m     \u001b[0mprint\u001b[0m\u001b[0;34m(\u001b[0m\u001b[0;34m\"Loading Stable Diffusion model...\"\u001b[0m\u001b[0;34m)\u001b[0m\u001b[0;34m\u001b[0m\u001b[0;34m\u001b[0m\u001b[0m\n\u001b[0;32m---> 17\u001b[0;31m     \u001b[0mpipe\u001b[0m \u001b[0;34m=\u001b[0m \u001b[0mStableDiffusionPipeline\u001b[0m\u001b[0;34m.\u001b[0m\u001b[0mfrom_pretrained\u001b[0m\u001b[0;34m(\u001b[0m\u001b[0;34m\"runwayml/stable-diffusion-v1-5\"\u001b[0m\u001b[0;34m)\u001b[0m\u001b[0;34m\u001b[0m\u001b[0;34m\u001b[0m\u001b[0m\n\u001b[0m\u001b[1;32m     18\u001b[0m     \u001b[0mpipe\u001b[0m \u001b[0;34m=\u001b[0m \u001b[0mpipe\u001b[0m\u001b[0;34m.\u001b[0m\u001b[0mto\u001b[0m\u001b[0;34m(\u001b[0m\u001b[0mDEVICE\u001b[0m\u001b[0;34m)\u001b[0m\u001b[0;34m\u001b[0m\u001b[0;34m\u001b[0m\u001b[0m\n\u001b[1;32m     19\u001b[0m \u001b[0;34m\u001b[0m\u001b[0m\n",
      "\u001b[0;32m/opt/anaconda3/lib/python3.10/site-packages/huggingface_hub/utils/_validators.py\u001b[0m in \u001b[0;36m_inner_fn\u001b[0;34m(*args, **kwargs)\u001b[0m\n\u001b[1;32m    112\u001b[0m             \u001b[0mkwargs\u001b[0m \u001b[0;34m=\u001b[0m \u001b[0msmoothly_deprecate_use_auth_token\u001b[0m\u001b[0;34m(\u001b[0m\u001b[0mfn_name\u001b[0m\u001b[0;34m=\u001b[0m\u001b[0mfn\u001b[0m\u001b[0;34m.\u001b[0m\u001b[0m__name__\u001b[0m\u001b[0;34m,\u001b[0m \u001b[0mhas_token\u001b[0m\u001b[0;34m=\u001b[0m\u001b[0mhas_token\u001b[0m\u001b[0;34m,\u001b[0m \u001b[0mkwargs\u001b[0m\u001b[0;34m=\u001b[0m\u001b[0mkwargs\u001b[0m\u001b[0;34m)\u001b[0m\u001b[0;34m\u001b[0m\u001b[0;34m\u001b[0m\u001b[0m\n\u001b[1;32m    113\u001b[0m \u001b[0;34m\u001b[0m\u001b[0m\n\u001b[0;32m--> 114\u001b[0;31m         \u001b[0;32mreturn\u001b[0m \u001b[0mfn\u001b[0m\u001b[0;34m(\u001b[0m\u001b[0;34m*\u001b[0m\u001b[0margs\u001b[0m\u001b[0;34m,\u001b[0m \u001b[0;34m**\u001b[0m\u001b[0mkwargs\u001b[0m\u001b[0;34m)\u001b[0m\u001b[0;34m\u001b[0m\u001b[0;34m\u001b[0m\u001b[0m\n\u001b[0m\u001b[1;32m    115\u001b[0m \u001b[0;34m\u001b[0m\u001b[0m\n\u001b[1;32m    116\u001b[0m     \u001b[0;32mreturn\u001b[0m \u001b[0m_inner_fn\u001b[0m  \u001b[0;31m# type: ignore\u001b[0m\u001b[0;34m\u001b[0m\u001b[0;34m\u001b[0m\u001b[0m\n",
      "\u001b[0;32m/opt/anaconda3/lib/python3.10/site-packages/diffusers/pipelines/pipeline_utils.py\u001b[0m in \u001b[0;36mfrom_pretrained\u001b[0;34m(cls, pretrained_model_name_or_path, **kwargs)\u001b[0m\n\u001b[1;32m    723\u001b[0m                     \u001b[0;34m\" is neither a valid local path nor a valid repo id. Please check the parameter.\"\u001b[0m\u001b[0;34m\u001b[0m\u001b[0;34m\u001b[0m\u001b[0m\n\u001b[1;32m    724\u001b[0m                 )\n\u001b[0;32m--> 725\u001b[0;31m             cached_folder = cls.download(\n\u001b[0m\u001b[1;32m    726\u001b[0m                 \u001b[0mpretrained_model_name_or_path\u001b[0m\u001b[0;34m,\u001b[0m\u001b[0;34m\u001b[0m\u001b[0;34m\u001b[0m\u001b[0m\n\u001b[1;32m    727\u001b[0m                 \u001b[0mcache_dir\u001b[0m\u001b[0;34m=\u001b[0m\u001b[0mcache_dir\u001b[0m\u001b[0;34m,\u001b[0m\u001b[0;34m\u001b[0m\u001b[0;34m\u001b[0m\u001b[0m\n",
      "\u001b[0;32m/opt/anaconda3/lib/python3.10/site-packages/huggingface_hub/utils/_validators.py\u001b[0m in \u001b[0;36m_inner_fn\u001b[0;34m(*args, **kwargs)\u001b[0m\n\u001b[1;32m    112\u001b[0m             \u001b[0mkwargs\u001b[0m \u001b[0;34m=\u001b[0m \u001b[0msmoothly_deprecate_use_auth_token\u001b[0m\u001b[0;34m(\u001b[0m\u001b[0mfn_name\u001b[0m\u001b[0;34m=\u001b[0m\u001b[0mfn\u001b[0m\u001b[0;34m.\u001b[0m\u001b[0m__name__\u001b[0m\u001b[0;34m,\u001b[0m \u001b[0mhas_token\u001b[0m\u001b[0;34m=\u001b[0m\u001b[0mhas_token\u001b[0m\u001b[0;34m,\u001b[0m \u001b[0mkwargs\u001b[0m\u001b[0;34m=\u001b[0m\u001b[0mkwargs\u001b[0m\u001b[0;34m)\u001b[0m\u001b[0;34m\u001b[0m\u001b[0;34m\u001b[0m\u001b[0m\n\u001b[1;32m    113\u001b[0m \u001b[0;34m\u001b[0m\u001b[0m\n\u001b[0;32m--> 114\u001b[0;31m         \u001b[0;32mreturn\u001b[0m \u001b[0mfn\u001b[0m\u001b[0;34m(\u001b[0m\u001b[0;34m*\u001b[0m\u001b[0margs\u001b[0m\u001b[0;34m,\u001b[0m \u001b[0;34m**\u001b[0m\u001b[0mkwargs\u001b[0m\u001b[0;34m)\u001b[0m\u001b[0;34m\u001b[0m\u001b[0;34m\u001b[0m\u001b[0m\n\u001b[0m\u001b[1;32m    115\u001b[0m \u001b[0;34m\u001b[0m\u001b[0m\n\u001b[1;32m    116\u001b[0m     \u001b[0;32mreturn\u001b[0m \u001b[0m_inner_fn\u001b[0m  \u001b[0;31m# type: ignore\u001b[0m\u001b[0;34m\u001b[0m\u001b[0;34m\u001b[0m\u001b[0m\n",
      "\u001b[0;32m/opt/anaconda3/lib/python3.10/site-packages/diffusers/pipelines/pipeline_utils.py\u001b[0m in \u001b[0;36mdownload\u001b[0;34m(cls, pretrained_model_name, **kwargs)\u001b[0m\n\u001b[1;32m   1431\u001b[0m         \u001b[0;31m# download all allow_patterns - ignore_patterns\u001b[0m\u001b[0;34m\u001b[0m\u001b[0;34m\u001b[0m\u001b[0m\n\u001b[1;32m   1432\u001b[0m         \u001b[0;32mtry\u001b[0m\u001b[0;34m:\u001b[0m\u001b[0;34m\u001b[0m\u001b[0;34m\u001b[0m\u001b[0m\n\u001b[0;32m-> 1433\u001b[0;31m             cached_folder = snapshot_download(\n\u001b[0m\u001b[1;32m   1434\u001b[0m                 \u001b[0mpretrained_model_name\u001b[0m\u001b[0;34m,\u001b[0m\u001b[0;34m\u001b[0m\u001b[0;34m\u001b[0m\u001b[0m\n\u001b[1;32m   1435\u001b[0m                 \u001b[0mcache_dir\u001b[0m\u001b[0;34m=\u001b[0m\u001b[0mcache_dir\u001b[0m\u001b[0;34m,\u001b[0m\u001b[0;34m\u001b[0m\u001b[0;34m\u001b[0m\u001b[0m\n",
      "\u001b[0;32m/opt/anaconda3/lib/python3.10/site-packages/huggingface_hub/utils/_validators.py\u001b[0m in \u001b[0;36m_inner_fn\u001b[0;34m(*args, **kwargs)\u001b[0m\n\u001b[1;32m    112\u001b[0m             \u001b[0mkwargs\u001b[0m \u001b[0;34m=\u001b[0m \u001b[0msmoothly_deprecate_use_auth_token\u001b[0m\u001b[0;34m(\u001b[0m\u001b[0mfn_name\u001b[0m\u001b[0;34m=\u001b[0m\u001b[0mfn\u001b[0m\u001b[0;34m.\u001b[0m\u001b[0m__name__\u001b[0m\u001b[0;34m,\u001b[0m \u001b[0mhas_token\u001b[0m\u001b[0;34m=\u001b[0m\u001b[0mhas_token\u001b[0m\u001b[0;34m,\u001b[0m \u001b[0mkwargs\u001b[0m\u001b[0;34m=\u001b[0m\u001b[0mkwargs\u001b[0m\u001b[0;34m)\u001b[0m\u001b[0;34m\u001b[0m\u001b[0;34m\u001b[0m\u001b[0m\n\u001b[1;32m    113\u001b[0m \u001b[0;34m\u001b[0m\u001b[0m\n\u001b[0;32m--> 114\u001b[0;31m         \u001b[0;32mreturn\u001b[0m \u001b[0mfn\u001b[0m\u001b[0;34m(\u001b[0m\u001b[0;34m*\u001b[0m\u001b[0margs\u001b[0m\u001b[0;34m,\u001b[0m \u001b[0;34m**\u001b[0m\u001b[0mkwargs\u001b[0m\u001b[0;34m)\u001b[0m\u001b[0;34m\u001b[0m\u001b[0;34m\u001b[0m\u001b[0m\n\u001b[0m\u001b[1;32m    115\u001b[0m \u001b[0;34m\u001b[0m\u001b[0m\n\u001b[1;32m    116\u001b[0m     \u001b[0;32mreturn\u001b[0m \u001b[0m_inner_fn\u001b[0m  \u001b[0;31m# type: ignore\u001b[0m\u001b[0;34m\u001b[0m\u001b[0;34m\u001b[0m\u001b[0m\n",
      "\u001b[0;32m/opt/anaconda3/lib/python3.10/site-packages/huggingface_hub/_snapshot_download.py\u001b[0m in \u001b[0;36msnapshot_download\u001b[0;34m(repo_id, repo_type, revision, cache_dir, local_dir, library_name, library_version, user_agent, proxies, etag_timeout, force_download, token, local_files_only, allow_patterns, ignore_patterns, max_workers, tqdm_class, headers, endpoint, local_dir_use_symlinks, resume_download)\u001b[0m\n\u001b[1;32m    291\u001b[0m             \u001b[0m_inner_hf_hub_download\u001b[0m\u001b[0;34m(\u001b[0m\u001b[0mfile\u001b[0m\u001b[0;34m)\u001b[0m\u001b[0;34m\u001b[0m\u001b[0;34m\u001b[0m\u001b[0m\n\u001b[1;32m    292\u001b[0m     \u001b[0;32melse\u001b[0m\u001b[0;34m:\u001b[0m\u001b[0;34m\u001b[0m\u001b[0;34m\u001b[0m\u001b[0m\n\u001b[0;32m--> 293\u001b[0;31m         thread_map(\n\u001b[0m\u001b[1;32m    294\u001b[0m             \u001b[0m_inner_hf_hub_download\u001b[0m\u001b[0;34m,\u001b[0m\u001b[0;34m\u001b[0m\u001b[0;34m\u001b[0m\u001b[0m\n\u001b[1;32m    295\u001b[0m             \u001b[0mfiltered_repo_files\u001b[0m\u001b[0;34m,\u001b[0m\u001b[0;34m\u001b[0m\u001b[0;34m\u001b[0m\u001b[0m\n",
      "\u001b[0;32m/opt/anaconda3/lib/python3.10/site-packages/tqdm/contrib/concurrent.py\u001b[0m in \u001b[0;36mthread_map\u001b[0;34m(fn, *iterables, **tqdm_kwargs)\u001b[0m\n\u001b[1;32m     67\u001b[0m     \"\"\"\n\u001b[1;32m     68\u001b[0m     \u001b[0;32mfrom\u001b[0m \u001b[0mconcurrent\u001b[0m\u001b[0;34m.\u001b[0m\u001b[0mfutures\u001b[0m \u001b[0;32mimport\u001b[0m \u001b[0mThreadPoolExecutor\u001b[0m\u001b[0;34m\u001b[0m\u001b[0;34m\u001b[0m\u001b[0m\n\u001b[0;32m---> 69\u001b[0;31m     \u001b[0;32mreturn\u001b[0m \u001b[0m_executor_map\u001b[0m\u001b[0;34m(\u001b[0m\u001b[0mThreadPoolExecutor\u001b[0m\u001b[0;34m,\u001b[0m \u001b[0mfn\u001b[0m\u001b[0;34m,\u001b[0m \u001b[0;34m*\u001b[0m\u001b[0miterables\u001b[0m\u001b[0;34m,\u001b[0m \u001b[0;34m**\u001b[0m\u001b[0mtqdm_kwargs\u001b[0m\u001b[0;34m)\u001b[0m\u001b[0;34m\u001b[0m\u001b[0;34m\u001b[0m\u001b[0m\n\u001b[0m\u001b[1;32m     70\u001b[0m \u001b[0;34m\u001b[0m\u001b[0m\n\u001b[1;32m     71\u001b[0m \u001b[0;34m\u001b[0m\u001b[0m\n",
      "\u001b[0;32m/opt/anaconda3/lib/python3.10/site-packages/tqdm/contrib/concurrent.py\u001b[0m in \u001b[0;36m_executor_map\u001b[0;34m(PoolExecutor, fn, *iterables, **tqdm_kwargs)\u001b[0m\n\u001b[1;32m     49\u001b[0m         with PoolExecutor(max_workers=max_workers, initializer=tqdm_class.set_lock,\n\u001b[1;32m     50\u001b[0m                           initargs=(lk,)) as ex:\n\u001b[0;32m---> 51\u001b[0;31m             \u001b[0;32mreturn\u001b[0m \u001b[0mlist\u001b[0m\u001b[0;34m(\u001b[0m\u001b[0mtqdm_class\u001b[0m\u001b[0;34m(\u001b[0m\u001b[0mex\u001b[0m\u001b[0;34m.\u001b[0m\u001b[0mmap\u001b[0m\u001b[0;34m(\u001b[0m\u001b[0mfn\u001b[0m\u001b[0;34m,\u001b[0m \u001b[0;34m*\u001b[0m\u001b[0miterables\u001b[0m\u001b[0;34m,\u001b[0m \u001b[0mchunksize\u001b[0m\u001b[0;34m=\u001b[0m\u001b[0mchunksize\u001b[0m\u001b[0;34m)\u001b[0m\u001b[0;34m,\u001b[0m \u001b[0;34m**\u001b[0m\u001b[0mkwargs\u001b[0m\u001b[0;34m)\u001b[0m\u001b[0;34m)\u001b[0m\u001b[0;34m\u001b[0m\u001b[0;34m\u001b[0m\u001b[0m\n\u001b[0m\u001b[1;32m     52\u001b[0m \u001b[0;34m\u001b[0m\u001b[0m\n\u001b[1;32m     53\u001b[0m \u001b[0;34m\u001b[0m\u001b[0m\n",
      "\u001b[0;32m/opt/anaconda3/lib/python3.10/site-packages/tqdm/notebook.py\u001b[0m in \u001b[0;36m__iter__\u001b[0;34m(self)\u001b[0m\n\u001b[1;32m    248\u001b[0m         \u001b[0;32mtry\u001b[0m\u001b[0;34m:\u001b[0m\u001b[0;34m\u001b[0m\u001b[0;34m\u001b[0m\u001b[0m\n\u001b[1;32m    249\u001b[0m             \u001b[0mit\u001b[0m \u001b[0;34m=\u001b[0m \u001b[0msuper\u001b[0m\u001b[0;34m(\u001b[0m\u001b[0;34m)\u001b[0m\u001b[0;34m.\u001b[0m\u001b[0m__iter__\u001b[0m\u001b[0;34m(\u001b[0m\u001b[0;34m)\u001b[0m\u001b[0;34m\u001b[0m\u001b[0;34m\u001b[0m\u001b[0m\n\u001b[0;32m--> 250\u001b[0;31m             \u001b[0;32mfor\u001b[0m \u001b[0mobj\u001b[0m \u001b[0;32min\u001b[0m \u001b[0mit\u001b[0m\u001b[0;34m:\u001b[0m\u001b[0;34m\u001b[0m\u001b[0;34m\u001b[0m\u001b[0m\n\u001b[0m\u001b[1;32m    251\u001b[0m                 \u001b[0;31m# return super(tqdm...) will not catch exception\u001b[0m\u001b[0;34m\u001b[0m\u001b[0;34m\u001b[0m\u001b[0m\n\u001b[1;32m    252\u001b[0m                 \u001b[0;32myield\u001b[0m \u001b[0mobj\u001b[0m\u001b[0;34m\u001b[0m\u001b[0;34m\u001b[0m\u001b[0m\n",
      "\u001b[0;32m/opt/anaconda3/lib/python3.10/site-packages/tqdm/std.py\u001b[0m in \u001b[0;36m__iter__\u001b[0;34m(self)\u001b[0m\n\u001b[1;32m   1179\u001b[0m \u001b[0;34m\u001b[0m\u001b[0m\n\u001b[1;32m   1180\u001b[0m         \u001b[0;32mtry\u001b[0m\u001b[0;34m:\u001b[0m\u001b[0;34m\u001b[0m\u001b[0;34m\u001b[0m\u001b[0m\n\u001b[0;32m-> 1181\u001b[0;31m             \u001b[0;32mfor\u001b[0m \u001b[0mobj\u001b[0m \u001b[0;32min\u001b[0m \u001b[0miterable\u001b[0m\u001b[0;34m:\u001b[0m\u001b[0;34m\u001b[0m\u001b[0;34m\u001b[0m\u001b[0m\n\u001b[0m\u001b[1;32m   1182\u001b[0m                 \u001b[0;32myield\u001b[0m \u001b[0mobj\u001b[0m\u001b[0;34m\u001b[0m\u001b[0;34m\u001b[0m\u001b[0m\n\u001b[1;32m   1183\u001b[0m                 \u001b[0;31m# Update and possibly print the progressbar.\u001b[0m\u001b[0;34m\u001b[0m\u001b[0;34m\u001b[0m\u001b[0m\n",
      "\u001b[0;32m/opt/anaconda3/lib/python3.10/concurrent/futures/_base.py\u001b[0m in \u001b[0;36mresult_iterator\u001b[0;34m()\u001b[0m\n\u001b[1;32m    619\u001b[0m                     \u001b[0;31m# Careful not to keep a reference to the popped future\u001b[0m\u001b[0;34m\u001b[0m\u001b[0;34m\u001b[0m\u001b[0m\n\u001b[1;32m    620\u001b[0m                     \u001b[0;32mif\u001b[0m \u001b[0mtimeout\u001b[0m \u001b[0;32mis\u001b[0m \u001b[0;32mNone\u001b[0m\u001b[0;34m:\u001b[0m\u001b[0;34m\u001b[0m\u001b[0;34m\u001b[0m\u001b[0m\n\u001b[0;32m--> 621\u001b[0;31m                         \u001b[0;32myield\u001b[0m \u001b[0m_result_or_cancel\u001b[0m\u001b[0;34m(\u001b[0m\u001b[0mfs\u001b[0m\u001b[0;34m.\u001b[0m\u001b[0mpop\u001b[0m\u001b[0;34m(\u001b[0m\u001b[0;34m)\u001b[0m\u001b[0;34m)\u001b[0m\u001b[0;34m\u001b[0m\u001b[0;34m\u001b[0m\u001b[0m\n\u001b[0m\u001b[1;32m    622\u001b[0m                     \u001b[0;32melse\u001b[0m\u001b[0;34m:\u001b[0m\u001b[0;34m\u001b[0m\u001b[0;34m\u001b[0m\u001b[0m\n\u001b[1;32m    623\u001b[0m                         \u001b[0;32myield\u001b[0m \u001b[0m_result_or_cancel\u001b[0m\u001b[0;34m(\u001b[0m\u001b[0mfs\u001b[0m\u001b[0;34m.\u001b[0m\u001b[0mpop\u001b[0m\u001b[0;34m(\u001b[0m\u001b[0;34m)\u001b[0m\u001b[0;34m,\u001b[0m \u001b[0mend_time\u001b[0m \u001b[0;34m-\u001b[0m \u001b[0mtime\u001b[0m\u001b[0;34m.\u001b[0m\u001b[0mmonotonic\u001b[0m\u001b[0;34m(\u001b[0m\u001b[0;34m)\u001b[0m\u001b[0;34m)\u001b[0m\u001b[0;34m\u001b[0m\u001b[0;34m\u001b[0m\u001b[0m\n",
      "\u001b[0;32m/opt/anaconda3/lib/python3.10/concurrent/futures/_base.py\u001b[0m in \u001b[0;36m_result_or_cancel\u001b[0;34m(***failed resolving arguments***)\u001b[0m\n\u001b[1;32m    317\u001b[0m     \u001b[0;32mtry\u001b[0m\u001b[0;34m:\u001b[0m\u001b[0;34m\u001b[0m\u001b[0;34m\u001b[0m\u001b[0m\n\u001b[1;32m    318\u001b[0m         \u001b[0;32mtry\u001b[0m\u001b[0;34m:\u001b[0m\u001b[0;34m\u001b[0m\u001b[0;34m\u001b[0m\u001b[0m\n\u001b[0;32m--> 319\u001b[0;31m             \u001b[0;32mreturn\u001b[0m \u001b[0mfut\u001b[0m\u001b[0;34m.\u001b[0m\u001b[0mresult\u001b[0m\u001b[0;34m(\u001b[0m\u001b[0mtimeout\u001b[0m\u001b[0;34m)\u001b[0m\u001b[0;34m\u001b[0m\u001b[0;34m\u001b[0m\u001b[0m\n\u001b[0m\u001b[1;32m    320\u001b[0m         \u001b[0;32mfinally\u001b[0m\u001b[0;34m:\u001b[0m\u001b[0;34m\u001b[0m\u001b[0;34m\u001b[0m\u001b[0m\n\u001b[1;32m    321\u001b[0m             \u001b[0mfut\u001b[0m\u001b[0;34m.\u001b[0m\u001b[0mcancel\u001b[0m\u001b[0;34m(\u001b[0m\u001b[0;34m)\u001b[0m\u001b[0;34m\u001b[0m\u001b[0;34m\u001b[0m\u001b[0m\n",
      "\u001b[0;32m/opt/anaconda3/lib/python3.10/concurrent/futures/_base.py\u001b[0m in \u001b[0;36mresult\u001b[0;34m(self, timeout)\u001b[0m\n\u001b[1;32m    451\u001b[0m                     \u001b[0;32mreturn\u001b[0m \u001b[0mself\u001b[0m\u001b[0;34m.\u001b[0m\u001b[0m__get_result\u001b[0m\u001b[0;34m(\u001b[0m\u001b[0;34m)\u001b[0m\u001b[0;34m\u001b[0m\u001b[0;34m\u001b[0m\u001b[0m\n\u001b[1;32m    452\u001b[0m \u001b[0;34m\u001b[0m\u001b[0m\n\u001b[0;32m--> 453\u001b[0;31m                 \u001b[0mself\u001b[0m\u001b[0;34m.\u001b[0m\u001b[0m_condition\u001b[0m\u001b[0;34m.\u001b[0m\u001b[0mwait\u001b[0m\u001b[0;34m(\u001b[0m\u001b[0mtimeout\u001b[0m\u001b[0;34m)\u001b[0m\u001b[0;34m\u001b[0m\u001b[0;34m\u001b[0m\u001b[0m\n\u001b[0m\u001b[1;32m    454\u001b[0m \u001b[0;34m\u001b[0m\u001b[0m\n\u001b[1;32m    455\u001b[0m                 \u001b[0;32mif\u001b[0m \u001b[0mself\u001b[0m\u001b[0;34m.\u001b[0m\u001b[0m_state\u001b[0m \u001b[0;32min\u001b[0m \u001b[0;34m[\u001b[0m\u001b[0mCANCELLED\u001b[0m\u001b[0;34m,\u001b[0m \u001b[0mCANCELLED_AND_NOTIFIED\u001b[0m\u001b[0;34m]\u001b[0m\u001b[0;34m:\u001b[0m\u001b[0;34m\u001b[0m\u001b[0;34m\u001b[0m\u001b[0m\n",
      "\u001b[0;32m/opt/anaconda3/lib/python3.10/threading.py\u001b[0m in \u001b[0;36mwait\u001b[0;34m(self, timeout)\u001b[0m\n\u001b[1;32m    318\u001b[0m         \u001b[0;32mtry\u001b[0m\u001b[0;34m:\u001b[0m    \u001b[0;31m# restore state no matter what (e.g., KeyboardInterrupt)\u001b[0m\u001b[0;34m\u001b[0m\u001b[0;34m\u001b[0m\u001b[0m\n\u001b[1;32m    319\u001b[0m             \u001b[0;32mif\u001b[0m \u001b[0mtimeout\u001b[0m \u001b[0;32mis\u001b[0m \u001b[0;32mNone\u001b[0m\u001b[0;34m:\u001b[0m\u001b[0;34m\u001b[0m\u001b[0;34m\u001b[0m\u001b[0m\n\u001b[0;32m--> 320\u001b[0;31m                 \u001b[0mwaiter\u001b[0m\u001b[0;34m.\u001b[0m\u001b[0macquire\u001b[0m\u001b[0;34m(\u001b[0m\u001b[0;34m)\u001b[0m\u001b[0;34m\u001b[0m\u001b[0;34m\u001b[0m\u001b[0m\n\u001b[0m\u001b[1;32m    321\u001b[0m                 \u001b[0mgotit\u001b[0m \u001b[0;34m=\u001b[0m \u001b[0;32mTrue\u001b[0m\u001b[0;34m\u001b[0m\u001b[0;34m\u001b[0m\u001b[0m\n\u001b[1;32m    322\u001b[0m             \u001b[0;32melse\u001b[0m\u001b[0;34m:\u001b[0m\u001b[0;34m\u001b[0m\u001b[0;34m\u001b[0m\u001b[0m\n",
      "\u001b[0;31mKeyboardInterrupt\u001b[0m: "
     ]
    }
   ],
   "source": [
    "generate_images_for_slides(starting_slide=1, last_slide=1)"
   ]
  },
  {
   "cell_type": "code",
   "execution_count": 21,
   "metadata": {},
   "outputs": [],
   "source": [
    "# last run"
   ]
  },
  {
   "cell_type": "code",
   "execution_count": 24,
   "metadata": {},
   "outputs": [],
   "source": [
    "import requests\n",
    "import json\n",
    "from openai import OpenAI\n",
    "\n",
    "def generate_images_for_slides(starting_slide=1, last_slide=1):\n",
    "    # Validate slide range\n",
    "    if starting_slide > last_slide:\n",
    "        print(\"Invalid slide range. Ensure starting_slide <= last_slide.\")\n",
    "        return\n",
    "\n",
    "    # Initialize OpenAI client once\n",
    "    client = OpenAI()\n",
    "\n",
    "    # Load slides data once\n",
    "    try:\n",
    "        with open(\"slides.json\", \"r\") as json_file:\n",
    "            slides_dict = json.load(json_file)\n",
    "    except FileNotFoundError:\n",
    "        print(\"Error: 'slides.json' file not found.\")\n",
    "        return\n",
    "    except json.JSONDecodeError:\n",
    "        print(\"Error: Failed to parse 'slides.json'.\")\n",
    "        return\n",
    "\n",
    "    # Loop through the slides and generate images\n",
    "    for slide_num in range(starting_slide, last_slide + 1):\n",
    "        # Check if the slide exists in the dictionary\n",
    "        slide_key = f\"slide_{slide_num}\"\n",
    "        if slide_key not in slides_dict:\n",
    "            print(f\"Warning: No prompt found for {slide_key}. Skipping.\")\n",
    "            continue\n",
    "\n",
    "        prompt = slides_dict[slide_key]\n",
    "        full_prompt = f\"Generate an image that will engage learners reading besides the text delimited by triple backticks ```{prompt}```\"\n",
    "        # print(full_prompt)\n",
    "        \n",
    "        # Generate the image\n",
    "        image_url = generate_image(client, full_prompt, slide_num)\n",
    "        if not image_url:\n",
    "            continue\n",
    "        \n",
    "        # Download the image\n",
    "        download_image(image_url, slide_num)\n",
    "\n",
    "    print(\"All slides processed.\")\n",
    "\n",
    "def generate_image(client, prompt, slide_num):\n",
    "    try:\n",
    "        response = client.images.generate(\n",
    "            model=\"dall-e-3\",\n",
    "            prompt=prompt,\n",
    "            size=\"1024x1024\",\n",
    "            quality=\"standard\",\n",
    "            n=1,\n",
    "        )\n",
    "        return response.data[0].url\n",
    "    except Exception as e:\n",
    "        print(f\"Error generating image for slide {slide_num}: {e}\")\n",
    "        return None\n",
    "\n",
    "def download_image(image_url, slide_num):\n",
    "    try:\n",
    "        image_response = requests.get(image_url, timeout=10)\n",
    "        image_response.raise_for_status()\n",
    "        file_path = f\"slide_{slide_num}.png\"\n",
    "        with open(file_path, 'wb') as f:\n",
    "            f.write(image_response.content)\n",
    "        print(f\"Image downloaded and saved as '{file_path}'\")\n",
    "    except requests.exceptions.RequestException as e:\n",
    "        print(f\"Error downloading image for slide {slide_num}: {e}\")\n"
   ]
  },
  {
   "cell_type": "code",
   "execution_count": 25,
   "metadata": {},
   "outputs": [
    {
     "name": "stdout",
     "output_type": "stream",
     "text": [
      "Image downloaded and saved as 'slide_36.png'\n",
      "Image downloaded and saved as 'slide_37.png'\n",
      "Image downloaded and saved as 'slide_38.png'\n",
      "Image downloaded and saved as 'slide_39.png'\n",
      "Image downloaded and saved as 'slide_40.png'\n",
      "Image downloaded and saved as 'slide_41.png'\n",
      "Image downloaded and saved as 'slide_42.png'\n",
      "Image downloaded and saved as 'slide_43.png'\n",
      "Image downloaded and saved as 'slide_44.png'\n",
      "Image downloaded and saved as 'slide_45.png'\n",
      "Image downloaded and saved as 'slide_46.png'\n",
      "Image downloaded and saved as 'slide_47.png'\n",
      "Image downloaded and saved as 'slide_48.png'\n",
      "Image downloaded and saved as 'slide_49.png'\n",
      "Image downloaded and saved as 'slide_50.png'\n",
      "Image downloaded and saved as 'slide_51.png'\n",
      "Image downloaded and saved as 'slide_52.png'\n",
      "Image downloaded and saved as 'slide_53.png'\n",
      "Image downloaded and saved as 'slide_54.png'\n",
      "Image downloaded and saved as 'slide_55.png'\n",
      "Image downloaded and saved as 'slide_56.png'\n",
      "Image downloaded and saved as 'slide_57.png'\n",
      "Image downloaded and saved as 'slide_58.png'\n",
      "Image downloaded and saved as 'slide_59.png'\n",
      "Image downloaded and saved as 'slide_60.png'\n",
      "Image downloaded and saved as 'slide_61.png'\n",
      "Image downloaded and saved as 'slide_62.png'\n",
      "Image downloaded and saved as 'slide_63.png'\n",
      "Image downloaded and saved as 'slide_64.png'\n",
      "Image downloaded and saved as 'slide_65.png'\n",
      "Image downloaded and saved as 'slide_66.png'\n",
      "Image downloaded and saved as 'slide_67.png'\n",
      "Image downloaded and saved as 'slide_68.png'\n",
      "Image downloaded and saved as 'slide_69.png'\n",
      "Image downloaded and saved as 'slide_70.png'\n",
      "Image downloaded and saved as 'slide_71.png'\n",
      "Image downloaded and saved as 'slide_72.png'\n",
      "Image downloaded and saved as 'slide_73.png'\n",
      "Image downloaded and saved as 'slide_74.png'\n",
      "Image downloaded and saved as 'slide_75.png'\n",
      "Image downloaded and saved as 'slide_76.png'\n",
      "Image downloaded and saved as 'slide_77.png'\n",
      "Image downloaded and saved as 'slide_78.png'\n",
      "Image downloaded and saved as 'slide_79.png'\n",
      "Image downloaded and saved as 'slide_80.png'\n",
      "Image downloaded and saved as 'slide_81.png'\n",
      "Image downloaded and saved as 'slide_82.png'\n",
      "Image downloaded and saved as 'slide_83.png'\n",
      "Image downloaded and saved as 'slide_84.png'\n",
      "Image downloaded and saved as 'slide_85.png'\n",
      "Image downloaded and saved as 'slide_86.png'\n",
      "Image downloaded and saved as 'slide_87.png'\n",
      "Image downloaded and saved as 'slide_88.png'\n",
      "Image downloaded and saved as 'slide_89.png'\n",
      "Image downloaded and saved as 'slide_90.png'\n",
      "Image downloaded and saved as 'slide_91.png'\n",
      "Image downloaded and saved as 'slide_92.png'\n",
      "All slides processed.\n"
     ]
    }
   ],
   "source": [
    "generate_images_for_slides(36, 92)"
   ]
  },
  {
   "cell_type": "code",
   "execution_count": null,
   "metadata": {},
   "outputs": [],
   "source": []
  }
 ],
 "metadata": {
  "kernelspec": {
   "display_name": "base",
   "language": "python",
   "name": "python3"
  },
  "language_info": {
   "codemirror_mode": {
    "name": "ipython",
    "version": 3
   },
   "file_extension": ".py",
   "mimetype": "text/x-python",
   "name": "python",
   "nbconvert_exporter": "python",
   "pygments_lexer": "ipython3",
   "version": "3.10.15"
  }
 },
 "nbformat": 4,
 "nbformat_minor": 2
}
