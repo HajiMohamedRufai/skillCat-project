{
 "cells": [
  {
   "cell_type": "markdown",
   "metadata": {
    "vscode": {
     "languageId": "plaintext"
    }
   },
   "source": [
    "# OPEN AI GENERATE IMAGES MASTER FUNCTION DEVELOPMENT"
   ]
  },
  {
   "cell_type": "code",
   "execution_count": null,
   "metadata": {},
   "outputs": [],
   "source": [
    "from openai import OpenAI\n",
    "client = OpenAI()\n",
    "\n",
    "response = client.images.generate(\n",
    "  model=\"dall-e-3\",\n",
    "  prompt=\"a white siamese cat\",\n",
    "  size=\"1024x1024\",\n",
    "  quality=\"standard\",\n",
    "  n=1,\n",
    ")\n",
    "\n",
    "image_url = response.data[0].url"
   ]
  },
  {
   "cell_type": "code",
   "execution_count": null,
   "metadata": {},
   "outputs": [],
   "source": [
    "# Download the image\n",
    "import requests\n",
    "image_response = requests.get(image_url)\n",
    "\n",
    "# Save the image to a file\n",
    "if image_response.status_code == 200:\n",
    "    with open('white_siamese_cat.png', 'wb') as f:\n",
    "        f.write(image_response.content)  # it is in  bytes format\n",
    "    print(\"Image downloaded and saved as 'white_siamese_cat.png'\")\n",
    "else:\n",
    "    print(\"Failed to download the image\")"
   ]
  },
  {
   "cell_type": "code",
   "execution_count": null,
   "metadata": {},
   "outputs": [],
   "source": [
    "## START\n",
    "def generate_images_for_slides(starting_slide=1, last_slide=1):\n",
    "    a = starting_slide\n",
    "    while a <= last_slide:\n",
    "        prompt = input(f\"Enter the text in slide_{a}\").strip()\n",
    "        prompt = f\"Generate an image that will engage learners reading besides that text delimited by triple backticks ```{prompt}```\"\n",
    "        \n",
    "        print(\"process the prompt\")\n",
    "        from openai import OpenAI\n",
    "        client = OpenAI()\n",
    "        \n",
    "        response = client.images.generate(\n",
    "            model=\"dall-e-3\",\n",
    "            prompt=prompt,\n",
    "            size=\"1024x1024\",\n",
    "            quality=\"standard\",\n",
    "            n=1,\n",
    "        )\n",
    "        \n",
    "        image_url = response.data[0].url\n",
    "        \n",
    "        # Download the image\n",
    "        import requests\n",
    "        image_response = requests.get(image_url)\n",
    "\n",
    "        # Save the image to a file\n",
    "        if image_response.status_code == 200:\n",
    "            with open(f'slide_{a}.png', 'wb') as f:\n",
    "                f.write(image_response.content)  # it is in  bytes format\n",
    "            print(f\"Image downloaded and saved as 'slide_{a}.png'\")\n",
    "        else:\n",
    "            print(\"Failed to download the image\")\n",
    "            \n",
    "        a = a+1\n",
    "    \n",
    "    print(\"Done\")\n",
    "    "
   ]
  },
  {
   "cell_type": "code",
   "execution_count": 1,
   "metadata": {},
   "outputs": [],
   "source": [
    "# OPtimized with chatgpt"
   ]
  },
  {
   "cell_type": "code",
   "execution_count": 2,
   "metadata": {},
   "outputs": [],
   "source": [
    "import requests\n",
    "from openai import OpenAI\n",
    "\n",
    "def generate_images_for_slides(starting_slide=1, last_slide=1):\n",
    "    if starting_slide > last_slide:\n",
    "        print(\"Invalid slide range. Ensure starting_slide <= last_slide.\")\n",
    "        return\n",
    "    \n",
    "    # Initialize OpenAI client once\n",
    "    client = OpenAI()\n",
    "    \n",
    "    for slide_num in range(starting_slide, last_slide + 1):\n",
    "        # Get the prompt text\n",
    "        prompt = input(f\"Enter the text for slide {slide_num}: \").strip()\n",
    "        full_prompt = (\n",
    "            f\"Generate an image that will engage learners reading besides the text \"\n",
    "            f\"delimited by triple backticks ```{prompt}```\"\n",
    "        )\n",
    "        \n",
    "        # Generate the image\n",
    "        try:\n",
    "            response = client.images.generate(\n",
    "                model=\"dall-e-3\",\n",
    "                prompt=full_prompt,\n",
    "                size=\"1024x1024\",\n",
    "                quality=\"standard\",\n",
    "                n=1,\n",
    "            )\n",
    "            image_url = response.data[0].url\n",
    "        except Exception as e:\n",
    "            print(f\"Error generating image for slide {slide_num}: {e}\")\n",
    "            continue\n",
    "\n",
    "        # Download the image\n",
    "        try:\n",
    "            image_response = requests.get(image_url, timeout=10)\n",
    "            image_response.raise_for_status()\n",
    "            file_path = f\"slide_{slide_num}.png\"\n",
    "            with open(file_path, 'wb') as f:\n",
    "                f.write(image_response.content)\n",
    "            print(f\"Image downloaded and saved as '{file_path}'\")\n",
    "        except Exception as e:\n",
    "            print(f\"Error downloading image for slide {slide_num}: {e}\")\n",
    "            continue\n",
    "\n",
    "    print(\"All slides processed.\")\n"
   ]
  },
  {
   "cell_type": "code",
   "execution_count": null,
   "metadata": {},
   "outputs": [],
   "source": [
    "import requests\n",
    "from openai import OpenAI\n",
    "\n",
    "def generate_images_for_slides(starting_slide=1, last_slide=1):\n",
    "    if starting_slide > last_slide:\n",
    "        print(\"Invalid slide range. Ensure starting_slide <= last_slide.\")\n",
    "        return\n",
    "    \n",
    "    # Initialize OpenAI client once\n",
    "    client = OpenAI()\n",
    "    \n",
    "    for slide_num in range(starting_slide, last_slide + 1):\n",
    "        # Get the prompt text\n",
    "        prompt = input(f\"Enter the text for slide {slide_num}: \").strip()\n",
    "        full_prompt = f\"Generate an image that will engage learners reading besides the text delimited by triple backticks ```{prompt}```\"\n",
    "        \n",
    "        \n",
    "        # Generate the image\n",
    "        try:\n",
    "            response = client.images.generate(\n",
    "                model=\"dall-e-3\",\n",
    "                prompt=full_prompt,\n",
    "                size=\"1024x1024\",\n",
    "                quality=\"standard\",\n",
    "                n=1,\n",
    "            )\n",
    "            image_url = response.data[0].url\n",
    "        except Exception as e:\n",
    "            print(f\"Error generating image for slide {slide_num}: {e}\")\n",
    "            continue\n",
    "\n",
    "        # Download the image\n",
    "        try:\n",
    "            image_response = requests.get(image_url, timeout=10)\n",
    "            image_response.raise_for_status()\n",
    "            file_path = f\"slide_{slide_num}.png\"\n",
    "            with open(file_path, 'wb') as f:\n",
    "                f.write(image_response.content)\n",
    "            print(f\"Image downloaded and saved as '{file_path}'\")\n",
    "        except Exception as e:\n",
    "            print(f\"Error downloading image for slide {slide_num}: {e}\")\n",
    "            continue\n",
    "\n",
    "    print(\"All slides processed.\")\n"
   ]
  },
  {
   "cell_type": "code",
   "execution_count": 6,
   "metadata": {},
   "outputs": [
    {
     "name": "stdout",
     "output_type": "stream",
     "text": [
      "Image downloaded and saved as 'slide_8.png'\n",
      "All slides processed.\n"
     ]
    }
   ],
   "source": [
    "generate_images_for_slides(8, 8)"
   ]
  },
  {
   "cell_type": "code",
   "execution_count": null,
   "metadata": {},
   "outputs": [
    {
     "name": "stdout",
     "output_type": "stream",
     "text": [
      "Image downloaded and saved as 'slide_1.png'\n",
      "Image downloaded and saved as 'slide_2.png'\n",
      "Image downloaded and saved as 'slide_3.png'\n",
      "Image downloaded and saved as 'slide_4.png'\n",
      "Image downloaded and saved as 'slide_5.png'\n",
      "Image downloaded and saved as 'slide_6.png'\n",
      "Image downloaded and saved as 'slide_7.png'\n",
      "Image downloaded and saved as 'slide_8.png'\n",
      "Image downloaded and saved as 'slide_9.png'\n",
      "Image downloaded and saved as 'slide_10.png'\n",
      "Image downloaded and saved as 'slide_11.png'\n",
      "Image downloaded and saved as 'slide_12.png'\n",
      "Image downloaded and saved as 'slide_13.png'\n",
      "Image downloaded and saved as 'slide_14.png'\n",
      "Image downloaded and saved as 'slide_15.png'\n",
      "Image downloaded and saved as 'slide_16.png'\n",
      "Image downloaded and saved as 'slide_17.png'\n",
      "Image downloaded and saved as 'slide_18.png'\n",
      "Image downloaded and saved as 'slide_19.png'\n",
      "Image downloaded and saved as 'slide_20.png'\n",
      "Image downloaded and saved as 'slide_21.png'\n",
      "Image downloaded and saved as 'slide_22.png'\n",
      "Image downloaded and saved as 'slide_23.png'\n",
      "Image downloaded and saved as 'slide_24.png'\n",
      "Image downloaded and saved as 'slide_25.png'\n",
      "Image downloaded and saved as 'slide_26.png'\n",
      "Image downloaded and saved as 'slide_27.png'\n",
      "Image downloaded and saved as 'slide_28.png'\n",
      "Image downloaded and saved as 'slide_29.png'\n",
      "Image downloaded and saved as 'slide_30.png'\n",
      "Image downloaded and saved as 'slide_31.png'\n",
      "Image downloaded and saved as 'slide_32.png'\n",
      "Image downloaded and saved as 'slide_33.png'\n",
      "Image downloaded and saved as 'slide_34.png'\n",
      "Image downloaded and saved as 'slide_35.png'\n"
     ]
    }
   ],
   "source": [
    "generate_images_for_slides(1, 92)"
   ]
  },
  {
   "cell_type": "code",
   "execution_count": null,
   "metadata": {},
   "outputs": [],
   "source": [
    "# Write a code to split the text in skillcat-ppt.txt in dictionary format\n",
    "import re\n",
    "\n",
    "# function to extract text from the plain text file\n",
    "def extract_text_from_file_path(file_path):\n",
    "    with open(file_path, \"r\", encoding='utf-8') as file:\n",
    "        content = file.read()\n",
    "    return content\n",
    "\n",
    "# function to pass the text and store it in a dictionary\n",
    "def parse_text_to_dictionary(text):\n",
    "    slides = re.split(r'\\n\\n', text)  # split text by double new line\n",
    "    slide_dict = {f\"slide_{i+1}\": slide.strip() for i, slide in enumerate(slides)}\n",
    "    return slide_dict\n",
    "\n"
   ]
  },
  {
   "cell_type": "code",
   "execution_count": 3,
   "metadata": {},
   "outputs": [],
   "source": [
    "slides = parse_text_to_dictionary(extract_text_from_file_path(\"/Users/hajirufai/AI-projects/SkillCat_Project/skillcat-ppt.txt\"))"
   ]
  },
  {
   "cell_type": "code",
   "execution_count": 6,
   "metadata": {},
   "outputs": [
    {
     "data": {
      "text/plain": [
       "'Sensors and Transducers\\nLearning Objectives:\\n1. Identify types of sensors used in HVAC systems and their applications.\\n2. Explain how transducers convert physical changes into electrical signals.'"
      ]
     },
     "execution_count": 6,
     "metadata": {},
     "output_type": "execute_result"
    }
   ],
   "source": [
    "slides['slide_36']"
   ]
  },
  {
   "cell_type": "code",
   "execution_count": 5,
   "metadata": {},
   "outputs": [
    {
     "name": "stdout",
     "output_type": "stream",
     "text": [
      "Sensors and Transducers\n",
      "Learning Objectives:\n",
      "1. Identify types of sensors used in HVAC systems and their applications.\n",
      "2. Explain how transducers convert physical changes into electrical signals.\n"
     ]
    }
   ],
   "source": [
    "print(slides['slide_36'])"
   ]
  },
  {
   "cell_type": "code",
   "execution_count": 7,
   "metadata": {},
   "outputs": [],
   "source": [
    "# Store the slides as a json dictionary"
   ]
  },
  {
   "cell_type": "code",
   "execution_count": 8,
   "metadata": {},
   "outputs": [],
   "source": [
    "import json\n",
    "# Save the dictionary to a JSON file\n",
    "with open('slides.json', 'w') as json_file:\n",
    "    json.dump(slides, json_file, indent=4)"
   ]
  },
  {
   "cell_type": "code",
   "execution_count": 9,
   "metadata": {},
   "outputs": [
    {
     "data": {
      "text/plain": [
       "'Sensors and Transducers\\nLearning Objectives:\\n1. Identify types of sensors used in HVAC systems and their applications.\\n2. Explain how transducers convert physical changes into electrical signals.'"
      ]
     },
     "execution_count": 9,
     "metadata": {},
     "output_type": "execute_result"
    }
   ],
   "source": [
    "# TESTING CONVERTING IT BACK TO PYTHON\n",
    "import json\n",
    "with open(\"slides.json\", \"r\") as file:\n",
    "    slides_dict = json.load(file)\n",
    "    \n",
    "    \n",
    "slides_dict['slide_36']"
   ]
  },
  {
   "cell_type": "code",
   "execution_count": 11,
   "metadata": {},
   "outputs": [
    {
     "name": "stdout",
     "output_type": "stream",
     "text": [
      "Ohm's Law Basics:\n",
      "- Formula: V = I × R\n",
      "- V represents Voltage (Volts)\n",
      "- I represents Current (Amperes)\n",
      "- R represents Resistance (Ohms)\n",
      "A fundamental equation used to calculate the relationship between voltage, current, and resistance in electrical circuits.\n"
     ]
    }
   ],
   "source": [
    "print(slides_dict['slide_16'])"
   ]
  },
  {
   "cell_type": "code",
   "execution_count": null,
   "metadata": {},
   "outputs": [],
   "source": [
    "# Modify my scripts instead of using prompts which I will give it to them\n",
    "# They should utilize the json dictionary / .json file"
   ]
  },
  {
   "cell_type": "code",
   "execution_count": null,
   "metadata": {},
   "outputs": [],
   "source": [
    "import requests\n",
    "from openai import OpenAI\n",
    "\n",
    "def generate_images_for_slides(starting_slide=1, last_slide=1):\n",
    "    if starting_slide > last_slide:\n",
    "        print(\"Invalid slide range. Ensure starting_slide <= last_slide.\")\n",
    "        return\n",
    "    \n",
    "    # Initialize OpenAI client once\n",
    "    client = OpenAI()\n",
    "    \n",
    "    for slide_num in range(starting_slide, last_slide + 1):\n",
    "        # Get the prompt text\n",
    "        # prompt = input(f\"Enter the text for slide {slide_num}: \").strip()\n",
    "        import json\n",
    "        with open(\"slides.json\", \"r\") as json_file:\n",
    "            slides_dict = json.load(json_file)\n",
    "        \n",
    "        prompt = slides_dict[f\"slide_{slide_num}\"]\n",
    "        \n",
    "        full_prompt = f\"Generate an image that will engage learners reading besides the text delimited by triple backticks ```{prompt}```\"\n",
    "        \n",
    "        # Generate the image\n",
    "        try:\n",
    "            response = client.images.generate(\n",
    "                model=\"dall-e-3\",\n",
    "                prompt=full_prompt,\n",
    "                size=\"1024x1024\",\n",
    "                quality=\"standard\",\n",
    "                n=1,\n",
    "            )\n",
    "            image_url = response.data[0].url\n",
    "        except Exception as e:\n",
    "            print(f\"Error generating image for slide {slide_num}: {e}\")\n",
    "            continue\n",
    "\n",
    "        # Download the image\n",
    "        try:\n",
    "            image_response = requests.get(image_url, timeout=10)\n",
    "            image_response.raise_for_status()\n",
    "            file_path = f\"slide_{slide_num}.png\"\n",
    "            with open(file_path, 'wb') as f:\n",
    "                f.write(image_response.content)\n",
    "            print(f\"Image downloaded and saved as '{file_path}'\")\n",
    "        except Exception as e:\n",
    "            print(f\"Error downloading image for slide {slide_num}: {e}\")\n",
    "            continue\n",
    "\n",
    "    print(\"All slides processed.\")\n"
   ]
  },
  {
   "cell_type": "code",
   "execution_count": null,
   "metadata": {},
   "outputs": [],
   "source": [
    "import requests\n",
    "import json\n",
    "from openai import OpenAI\n",
    "\n",
    "def generate_images_for_slides(starting_slide=1, last_slide=1):\n",
    "    # Validate slide range\n",
    "    if starting_slide > last_slide:\n",
    "        print(\"Invalid slide range. Ensure starting_slide <= last_slide.\")\n",
    "        return\n",
    "\n",
    "    # Initialize OpenAI client once\n",
    "    client = OpenAI()\n",
    "\n",
    "    # Load slides data once\n",
    "    try:\n",
    "        with open(\"slides.json\", \"r\") as json_file:\n",
    "            slides_dict = json.load(json_file)\n",
    "    except FileNotFoundError:\n",
    "        print(\"Error: 'slides.json' file not found.\")\n",
    "        return\n",
    "    except json.JSONDecodeError:\n",
    "        print(\"Error: Failed to parse 'slides.json'.\")\n",
    "        return\n",
    "\n",
    "    # Loop through the slides and generate images\n",
    "    for slide_num in range(starting_slide, last_slide + 1):\n",
    "        # Check if the slide exists in the dictionary\n",
    "        slide_key = f\"slide_{slide_num}\"\n",
    "        if slide_key not in slides_dict:\n",
    "            print(f\"Warning: No prompt found for {slide_key}. Skipping.\")\n",
    "            continue\n",
    "\n",
    "        prompt = slides_dict[slide_key]\n",
    "        full_prompt = f\"Generate an image that will engage learners reading besides the text delimited by triple backticks ```{prompt}```\"\n",
    "        print(full_prompt)\n",
    "        \n",
    "        # Generate the image\n",
    "        image_url = generate_image(client, full_prompt, slide_num)\n",
    "        if not image_url:\n",
    "            continue\n",
    "        \n",
    "        # Download the image\n",
    "        download_image(image_url, slide_num)\n",
    "\n",
    "    print(\"All slides processed.\")\n",
    "\n",
    "def generate_image(client, prompt, slide_num):\n",
    "    try:\n",
    "        response = client.images.generate(\n",
    "            model=\"dall-e-3\",\n",
    "            prompt=prompt,\n",
    "            size=\"1024x1024\",\n",
    "            quality=\"standard\",\n",
    "            n=1,\n",
    "        )\n",
    "        return response.data[0].url\n",
    "    except Exception as e:\n",
    "        print(f\"Error generating image for slide {slide_num}: {e}\")\n",
    "        return None\n",
    "\n",
    "def download_image(image_url, slide_num):\n",
    "    try:\n",
    "        image_response = requests.get(image_url, timeout=10)\n",
    "        image_response.raise_for_status()\n",
    "        file_path = f\"slide_{slide_num}.png\"\n",
    "        with open(file_path, 'wb') as f:\n",
    "            f.write(image_response.content)\n",
    "        print(f\"Image downloaded and saved as '{file_path}'\")\n",
    "    except requests.exceptions.RequestException as e:\n",
    "        print(f\"Error downloading image for slide {slide_num}: {e}\")\n"
   ]
  },
  {
   "cell_type": "code",
   "execution_count": 16,
   "metadata": {},
   "outputs": [
    {
     "name": "stdout",
     "output_type": "stream",
     "text": [
      "Generate an image that will engage learners reading besides the text delimited by triple backticks ```Ohm's Law Basics:\n",
      "- Formula: V = I × R\n",
      "- V represents Voltage (Volts)\n",
      "- I represents Current (Amperes)\n",
      "- R represents Resistance (Ohms)\n",
      "A fundamental equation used to calculate the relationship between voltage, current, and resistance in electrical circuits.```\n",
      "Image downloaded and saved as 'slide_16.png'\n",
      "All slides processed.\n"
     ]
    }
   ],
   "source": [
    "generate_images_for_slides(16, 16)"
   ]
  },
  {
   "cell_type": "code",
   "execution_count": null,
   "metadata": {},
   "outputs": [],
   "source": []
  }
 ],
 "metadata": {
  "kernelspec": {
   "display_name": "base",
   "language": "python",
   "name": "python3"
  },
  "language_info": {
   "codemirror_mode": {
    "name": "ipython",
    "version": 3
   },
   "file_extension": ".py",
   "mimetype": "text/x-python",
   "name": "python",
   "nbconvert_exporter": "python",
   "pygments_lexer": "ipython3",
   "version": "3.10.15"
  }
 },
 "nbformat": 4,
 "nbformat_minor": 2
}
